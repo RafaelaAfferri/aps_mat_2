{
 "cells": [
  {
   "cell_type": "code",
   "execution_count": 2,
   "metadata": {},
   "outputs": [],
   "source": [
    "import math\n",
    "from utils import *"
   ]
  },
  {
   "cell_type": "markdown",
   "metadata": {},
   "source": [
    "O exercicio 1a está no arquivo geogebra geogebra-export.ggb"
   ]
  },
  {
   "cell_type": "markdown",
   "metadata": {},
   "source": [
    "1b) (2x0+y0-1 ; x0+8y0-4)"
   ]
  },
  {
   "cell_type": "code",
   "execution_count": 4,
   "metadata": {},
   "outputs": [
    {
     "name": "stdout",
     "output_type": "stream",
     "text": [
      "(0.2666627256898635, 0.4666673061991611) 53\n"
     ]
    }
   ],
   "source": [
    "#1c\n",
    "modulo = math.inf\n",
    "alpha = 0.1\n",
    "ponto = (0, 0)\n",
    "interacoes = 0\n",
    "\n",
    "while modulo > (10**(-5)):\n",
    "    a, b = calcula_a_b(ponto)\n",
    "    modulo = calcula_modulo(a, b)\n",
    "    x1, y1 = calcula_x1_y1(a, b, alpha, ponto)\n",
    "    ponto = (x1, y1)\n",
    "    interacoes += 1\n",
    "    \n",
    "print(ponto, interacoes)"
   ]
  },
  {
   "cell_type": "markdown",
   "metadata": {},
   "source": [
    "1c) O ponto mininmo é (0.2666627256898635, 0.4666673061991611) e o número de interações que demorou para obter este resultado foi de 53"
   ]
  },
  {
   "cell_type": "code",
   "execution_count": 6,
   "metadata": {},
   "outputs": [
    {
     "name": "stdout",
     "output_type": "stream",
     "text": [
      "(0.2666634479768553, 0.46666718898811804) 34\n",
      "(0.2666663803355136, 0.46666616558714874) 30\n"
     ]
    }
   ],
   "source": [
    "#1d\n",
    "\n",
    "#alpha = 0.15\n",
    "modulo = math.inf\n",
    "alpha = 0.15\n",
    "ponto_1 = (0, 0)\n",
    "interacoes_1 = 0\n",
    "\n",
    "while modulo > (10**(-5)):\n",
    "    a, b = calcula_a_b(ponto_1)\n",
    "    modulo = calcula_modulo(a, b)\n",
    "    x1, y1 = calcula_x1_y1(a, b, alpha, ponto_1)\n",
    "    ponto_1 = (x1, y1)\n",
    "    interacoes_1 += 1\n",
    "    \n",
    "print(ponto_1, interacoes_1)\n",
    "\n",
    "#alpha = 0.2\n",
    "modulo = math.inf\n",
    "alpha = 0.2\n",
    "ponto_2 = (0, 0)\n",
    "interacoes_2 = 0\n",
    "\n",
    "while modulo > (10**(-5)):\n",
    "    a, b = calcula_a_b(ponto_2)\n",
    "    modulo = calcula_modulo(a, b)\n",
    "    x1, y1 = calcula_x1_y1(a, b, alpha, ponto_2)\n",
    "    ponto_2 = (x1, y1)\n",
    "    interacoes_2 += 1\n",
    "\n",
    "print(ponto_2,  interacoes_2)\n",
    "\n",
    "# #alpha = 0.3\n",
    "# modulo = math.inf\n",
    "# alpha = 0.3\n",
    "# ponto_3 = (0, 0)\n",
    "# interacoes_3 = 0\n",
    "\n",
    "# while modulo > (10**(-5)):\n",
    "#     a, b = calcula_a_b(ponto_3)\n",
    "#     modulo = calcula_modulo(a, b)\n",
    "#     x1, y1 = calcula_x1_y1(a, b, alpha, ponto_3)\n",
    "#     ponto_3 = (x1, y1)\n",
    "#     interacoes_3 += 1\n",
    "\n",
    "# print(ponto_3, interacoes_3)\n",
    "\n",
    "# #alpha = 0.5\n",
    "# modulo = math.inf\n",
    "# alpha = 0.5\n",
    "# ponto_4 = (0, 0)\n",
    "# interacoes_4 = 0\n",
    "\n",
    "# while modulo > (10**(-5)):\n",
    "#     a, b = calcula_a_b(ponto_4)\n",
    "#     modulo = calcula_modulo(a, b)\n",
    "#     x1, y1 = calcula_x1_y1(a, b, alpha, ponto_4)\n",
    "#     ponto_4 = (x1, y1)\n",
    "#     interacoes_4 += 1\n",
    "\n",
    "# print(ponto_4, interacoes_4)\n",
    "\n"
   ]
  },
  {
   "cell_type": "markdown",
   "metadata": {},
   "source": [
    "1d) Percebemos que apartir do alpha 0.3 os valores gerados são muito grandes para serem calculados pelo computador. Para o alpha 0.15 foi encontrado o ponto (0.2666634479768553, 0.46666718898811804) com 34 interações, e para o alpha 0.2 foi encontrado o ponto (0.2666663803355136, 0.46666616558714874) com 30 interações."
   ]
  },
  {
   "cell_type": "code",
   "execution_count": 7,
   "metadata": {},
   "outputs": [
    {
     "name": "stdout",
     "output_type": "stream",
     "text": [
      "(0.0, 1.0894808038940245) 65\n"
     ]
    }
   ],
   "source": [
    "#2\n",
    "modulo = math.inf\n",
    "alpha = 0.1\n",
    "ponto = (0, 0)\n",
    "\n",
    "interacoes = 0\n",
    "\n",
    "while modulo > (10**(-5)):\n",
    "    a, b = calcula_a_b_2(ponto)\n",
    "    modulo = calcula_modulo(a, b)\n",
    "    x1, y1 = calcula_x1_y1(a, b, alpha, ponto)\n",
    "    ponto = (x1, y1)\n",
    "    interacoes += 1    \n",
    "print(ponto,interacoes)\n",
    "\n",
    "#Diferença nas funções\n",
    "\n",
    "#Função antiga\n",
    "# def calcula_a_b(ponto):\n",
    "#     a = 2 * ponto[0] + ponto[1] - 1\n",
    "#     b = ponto[0] + 8 * ponto[1] - 4\n",
    "#     return a, b\n",
    "\n",
    "#Função nova\n",
    "# def calcula_a_b_2(ponto):\n",
    "#     a = ponto[0]/(math.sqrt(ponto[0]**2 + ponto[1]**2 + 2) + 2* (e**(-ponto[1]**2))+2*(ponto[0]-2))\n",
    "#     b = ponto[1]/(math.sqrt(ponto[0]**2 + ponto[1]**2 + 2)) - 2* (e**(-ponto[1]**2))+ponto[0]**2 * ponto[1]\n",
    "\n",
    "#     return a, b"
   ]
  },
  {
   "cell_type": "markdown",
   "metadata": {},
   "source": [
    "2) Os pontos de miinimo obtidos foram (0.0, 1.0894808038940245) e (0.0, -1.0894808038940245). O primeiro ponto foi obtido atravéz do código em python já para obtermos o segundo ponto, primeiro construimos o gráfico da função no geogebra e assim observamos que os pontos de mínimos são um o oposto do outro e portanto conseguimos assumir o segundo ponto de mínimo a partir do primeiro."
   ]
  }
 ],
 "metadata": {
  "kernelspec": {
   "display_name": "Python 3",
   "language": "python",
   "name": "python3"
  },
  "language_info": {
   "codemirror_mode": {
    "name": "ipython",
    "version": 3
   },
   "file_extension": ".py",
   "mimetype": "text/x-python",
   "name": "python",
   "nbconvert_exporter": "python",
   "pygments_lexer": "ipython3",
   "version": "3.10.10"
  }
 },
 "nbformat": 4,
 "nbformat_minor": 2
}
